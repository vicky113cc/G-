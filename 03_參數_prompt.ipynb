{
  "nbformat": 4,
  "nbformat_minor": 0,
  "metadata": {
    "colab": {
      "provenance": [],
      "include_colab_link": true
    },
    "kernelspec": {
      "name": "python3",
      "display_name": "Python 3"
    },
    "language_info": {
      "name": "python"
    }
  },
  "cells": [
    {
      "cell_type": "markdown",
      "metadata": {
        "id": "view-in-github",
        "colab_type": "text"
      },
      "source": [
        "<a href=\"https://colab.research.google.com/github/vicky113cc/G-/blob/main/03_%E5%8F%83%E6%95%B8_prompt.ipynb\" target=\"_parent\"><img src=\"https://colab.research.google.com/assets/colab-badge.svg\" alt=\"Open In Colab\"/></a>"
      ]
    },
    {
      "cell_type": "code",
      "execution_count": null,
      "metadata": {
        "id": "NDlazKOAvjGZ"
      },
      "outputs": [],
      "source": [
        "!pip install openai\n",
        "!pip install python-dotenv"
      ]
    },
    {
      "cell_type": "code",
      "source": [
        "from openai import OpenAI\n",
        "from dotenv import dotenv_values\n",
        "config = dotenv_values('.env')\n",
        "client = OpenAI(api_key=config[\"API_KEY\"])"
      ],
      "metadata": {
        "id": "PXMWF9t4w4oX"
      },
      "execution_count": null,
      "outputs": []
    },
    {
      "cell_type": "code",
      "source": [
        "audio_file = open(\"audio_DALL-E.mp3\", \"rb\")\n",
        "res = client.audio.transcriptions.create(\n",
        "    model=\"whisper-1\",\n",
        "    file=audio_file,\n",
        "    prompt=\"介紹DALL-E\"\n",
        ")"
      ],
      "metadata": {
        "id": "oYxXHQaOIJoy"
      },
      "execution_count": null,
      "outputs": []
    },
    {
      "cell_type": "code",
      "source": [
        "res.text"
      ],
      "metadata": {
        "colab": {
          "base_uri": "https://localhost:8080/",
          "height": 53
        },
        "id": "U_ufbYuEIJmq",
        "outputId": "84b76142-af57-4384-ab8f-e7009515f5df"
      },
      "execution_count": null,
      "outputs": [
        {
          "output_type": "execute_result",
          "data": {
            "text/plain": [
              "'接下來跟大家介紹一點不一樣的 我們來玩OpenAI的圖像生成模型 那我們可以在OpenAI的官網找到上面的product 然後可以看到一個叫做DALL-E的 那這個DALL-E就是OpenAI的圖像生成模型 我們點進去'"
            ],
            "application/vnd.google.colaboratory.intrinsic+json": {
              "type": "string"
            }
          },
          "metadata": {},
          "execution_count": 12
        }
      ]
    },
    {
      "cell_type": "code",
      "source": [],
      "metadata": {
        "id": "fiotAIlwIJkS"
      },
      "execution_count": null,
      "outputs": []
    },
    {
      "cell_type": "code",
      "source": [
        "audio_file = open(\"audio_DALL-E.mp3\", \"rb\")\n",
        "res = client.audio.translations.create(\n",
        "    model=\"whisper-1\",\n",
        "    file=audio_file,\n",
        "    prompt=\"introduce DALL-E\"\n",
        ")"
      ],
      "metadata": {
        "id": "tnw4tYNIw8jo"
      },
      "execution_count": null,
      "outputs": []
    },
    {
      "cell_type": "code",
      "source": [
        "res.text"
      ],
      "metadata": {
        "id": "GvIT0-sJw8lr",
        "colab": {
          "base_uri": "https://localhost:8080/",
          "height": 53
        },
        "outputId": "a7a746b8-2391-4304-809f-b4ffb3a676a8"
      },
      "execution_count": null,
      "outputs": [
        {
          "output_type": "execute_result",
          "data": {
            "text/plain": [
              "\"Next, I will introduce a different image generation model of OpenAI. We can find the product on the OpenAI website. Then we can see a DALL-E. This DALL-E is the image generation model of OpenAI. Let's click in.\""
            ],
            "application/vnd.google.colaboratory.intrinsic+json": {
              "type": "string"
            }
          },
          "metadata": {},
          "execution_count": 16
        }
      ]
    },
    {
      "cell_type": "code",
      "source": [],
      "metadata": {
        "id": "oWxcYMHaw8n4"
      },
      "execution_count": null,
      "outputs": []
    },
    {
      "cell_type": "code",
      "source": [],
      "metadata": {
        "id": "DIXAYwoIw8p_"
      },
      "execution_count": null,
      "outputs": []
    },
    {
      "cell_type": "code",
      "source": [],
      "metadata": {
        "id": "gXL9H6JJw4qv"
      },
      "execution_count": null,
      "outputs": []
    }
  ]
}